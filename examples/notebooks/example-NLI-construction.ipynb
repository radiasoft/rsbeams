{
 "cells": [
  {
   "cell_type": "markdown",
   "metadata": {},
   "source": [
    "# Example documenting Synergia Nonlinear Insert Creation\n",
    "\n",
    "This notebook shows how to create the series of `nllens` elements in MAD-X/Synergia in such a way as to constitute a complete nonlinear insert. The intention with this development is to permit users to define the basic composition of a nonlinear insert, and place it anywhere in the lattice that satisfies the appropriate lattice functions. \n",
    "\n",
    "The resulting `NonlinearInsert` class, shown below, does not rely on the rssynergia repository, nor any other Synergia dependencies, but is designed to facilitate the specification of nonlinear lattice designs in Sirepo. Future updates, for example the `validate_sequence()` function, will make use of code-specific helpers to grab lattice functions for processing. The `NonlinearInsert` class has been added to the `rsbeams` repository in [rsbeams/rslattice/nonlinear.py](https://github.com/radiasoft/rsbeams/blob/master/rsbeams/rslattice/nonlinear.py).\n",
    "\n",
    "Creation of the nonlinear insert requires the following specifications:\n",
    "\n",
    "1. Number of insert segments - the IOTA lattice uses 20 segments so we will default to 20.\n",
    "2. The nonlinear aperture parameter c - the IOTA lattice uses 0.01\n",
    "3. The nonlinear strength parameter t - this is a free parameter, but we often use values between 0.1 and 0.4\n",
    "\n",
    "**Note:** In order to meet the requirements of integrability, the insert must be placed in a drift for which the beta functions are symmetric and, and the insert parameters vary as a function of the phase advance through the insert and c-parameter. What this means is that a given lattice design may only accomodate one specific insert type (but with variable nonlinear strength). However, to streamline the user interface, we will ignore these requirements for now, and simply permit users to arbitrarily design and place these nonlinear inserts."
   ]
  },
  {
   "cell_type": "code",
   "execution_count": 1,
   "metadata": {},
   "outputs": [],
   "source": [
    "import numpy as np\n",
    "import matplotlib.pyplot as plt\n",
    "import h5py"
   ]
  },
  {
   "cell_type": "code",
   "execution_count": 2,
   "metadata": {},
   "outputs": [],
   "source": [
    "from rsbeams.rsptcls import bunch\n",
    "from rsbeams.rslattice import nonlinear"
   ]
  },
  {
   "cell_type": "markdown",
   "metadata": {},
   "source": [
    "## Nonlinear Element Specification"
   ]
  },
  {
   "cell_type": "markdown",
   "metadata": {},
   "source": [
    "#### Basic relationships between entrance, central betas and the length/aperture/phase advance of the element."
   ]
  },
  {
   "cell_type": "code",
   "execution_count": 3,
   "metadata": {},
   "outputs": [
    {
     "name": "stdout",
     "output_type": "stream",
     "text": [
      "Focal length is 0.6875388202501894 [m]\n",
      "Beta values at entrance are 1.8926320036288808 [m]\n",
      "Beta value at center is 0.653888275204825 [m]\n"
     ]
    }
   ],
   "source": [
    "# Relationship between phase advance and length:\n",
    "mu0 = 0.3\n",
    "l0 = 1.8\n",
    "cval = 0.03\n",
    "tval = 0.4\n",
    "f0=l0/4.0*(1.0+1.0/np.tan(np.pi*mu0)**2)\n",
    "print(\"Focal length is {} [m]\".format(f0))\n",
    "betae=l0/np.sqrt(1.0-(1.0-l0/2.0/f0)**2)\n",
    "print(\"Beta values at entrance are {} [m]\".format(betae))\n",
    "betas=l0*(1-l0/4.0/f0)/np.sqrt(1.0-(1.0-l0/2.0/f0)**2);\n",
    "print(\"Beta value at center is {} [m]\".format(betas))"
   ]
  },
  {
   "cell_type": "markdown",
   "metadata": {},
   "source": [
    "## Nonlinear Insert Python Class"
   ]
  },
  {
   "cell_type": "code",
   "execution_count": 4,
   "metadata": {},
   "outputs": [],
   "source": [
    "class NonlinearInsert(object):\n",
    "    \"\"\"\n",
    "    Class for generating and manipulating a nonlinear insert for use in the nonlinear integrable optics.\n",
    "    Following the presciptions of the elliptic scheme defined by: \n",
    "       -V. Danilov and S. Nagaitsev. Phys. Rev. ST Accel. Beams 13, 084002 (2010)\n",
    "       -https://journals.aps.org/prab/abstract/10.1103/PhysRevSTAB.13.084002    \n",
    "    \n",
    "    Instantiation of the nonlinear insert requires element requires specification of the length, phase, \n",
    "    aperture, strength, and number of slices comprising the insert. The required Twiss functions can be\n",
    "    computed from this information, and hence insertion of the element into a lattice can be done by \n",
    "    comparing the requirements to the Twiss parameters obtained from the lattice.\n",
    "    \n",
    "    Attributes:\n",
    "        length (float): the length of the nonlinear insert in meters\n",
    "        phase (float): the phase advance modulo 2pi through the nonlinear insert\n",
    "        t (float): the dimensionless nonlinear strength parameter. Defaults to 0.1\n",
    "        c (float): the nonlinear aperture parameter (m^-1/2), defining poles in the x-axis. Defaults to 0.01.\n",
    "        num_slices (int): the number of piecewise constant segements used to construct the insert\n",
    "        \n",
    "        s_vals (ndArray): array of relative s-values providing the center of each segment of the nonlinear insert\n",
    "        knll (ndArray): array of gradient values for each nonlinear segment element (nllens)\n",
    "        cnll (ndArray): array of aperture parameters for each nonlinear segment element (nllens)\n",
    "       \n",
    "    \"\"\"\n",
    "    \n",
    "    def __init__(self, length, phase, t = 0.1, c = 0.01, num_slices = 20):\n",
    "    \n",
    "        \"\"\"\n",
    "        Arguments:\n",
    "            length (float): the length of the nonlinear insert in meters\n",
    "            phase (float): the phase advance modulo 2pi through the nonlinear insert\n",
    "            t (float): the dimensionless nonlinear strength parameter. Defaults to 0.1\n",
    "            c (float): the nonlinear aperture parameter (m^-1/2), defining poles in the x-axis. Defaults to 0.01.\n",
    "            num_slices (int): the number of piecewise constant segements used to construct the insert\n",
    "        \"\"\"\n",
    "        self.length = length\n",
    "        self.phase = phase\n",
    "        self.t = t\n",
    "        self._c = c\n",
    "        self.num_slices = num_slices\n",
    "    \n",
    "        \n",
    "    #Define c property which maintains a positive definite value\n",
    "    @property\n",
    "    def c(self):\n",
    "        return self._c\n",
    "    @c.setter\n",
    "    def c(self, cval):\n",
    "        if cval < 0:\n",
    "            raise ValueError(\"Aperture parameter c must be larger than 0.\")     \n",
    "        self._c = c\n",
    "        \n",
    "    \n",
    "    def generate_sequence(self):\n",
    "        \"\"\"Generates arrays containing the knll and cnll values for each nllens element\"\"\"\n",
    "        \n",
    "        #Define the focal length of the insert using the phase advance and length\n",
    "        f0 = self.length/4.0*(1.0+1.0/np.tan(np.pi*self.phase)**2)\n",
    "        \n",
    "        #define array of s-values\n",
    "        start = (self.length/self.num_slices)*0.5\n",
    "        end = self.length - start\n",
    "        #Make an attribute as they could be useful for constructing the mad-x sequence\n",
    "        self.s_vals = np.linspace(start,end,self.num_slices) \n",
    "        \n",
    "        #set the initial beta value to help compare to lattice functions\n",
    "        self.beta0 = self.length*(1.-0.0*(self.length)/self.length/f0)/np.sqrt(1.0-(1.0-self.length/2.0/f0)**2)\n",
    "        \n",
    "        #set the beta functions as an attribute for comparing against other lattice functions\n",
    "        bn = self.length*(1-self.s_vals*(self.length-self.s_vals)/self.length/f0)/np.sqrt(1.0-(1.0-self.length/2.0/f0)**2)\n",
    "        self.betas = bn\n",
    "        \n",
    "        knn = self.t*self.length/self.num_slices/bn**2\n",
    "        cnll = self.c*np.sqrt(bn)\n",
    "        knll = knn*cnll**2\n",
    "        \n",
    "        #Now set the knll and cnll parameters for each nllens object\n",
    "        self.knll = knll\n",
    "        self.cnll = cnll\n",
    "        \n",
    "    def validate_sequence(self, beta_values):\n",
    "        \"\"\"\n",
    "        Checks the predicted beta functions for the specified sequence against known lattice functions.\n",
    "        This function is not currently implemented.\n",
    "        \n",
    "        Arguments:\n",
    "            beta_values: an array of beta x/y values for the underlying \"bare\" lattice\n",
    "            \n",
    "        Returns:\n",
    "            check: a boolean signifying that the lattice correctly permits the sequence defined in the lattice\n",
    "        \"\"\"\n",
    "        \n",
    "        return\n",
    "        \n",
    "            \n",
    "    def create_madx(self):\n",
    "        \"\"\"\n",
    "        Return a sequence of madx elements representing the insert, represented as strings:\n",
    "        \n",
    "            [\"elem 1 string\", \"elem 2 string\", ...]\n",
    "        \n",
    "        Returns:\n",
    "            MADX_elements: list of strings describing nllens elements needed to construct inset\n",
    "        \"\"\"\n",
    "        \n",
    "        MADX_elements = []\n",
    "        \n",
    "        for ind in range(len(self.knll)):\n",
    "            #Loop through element and construct nllens with strengths and apertures\n",
    "            elem = \"nllens, knll = {}, cnll = {};\".format(self.knll[ind], self.cnll[ind])\n",
    "            MADX_elements.append(elem)\n",
    "            \n",
    "        return MADX_elements"
   ]
  },
  {
   "cell_type": "markdown",
   "metadata": {},
   "source": [
    "#### Simple Example\n",
    "\n",
    "This example reproduces the NL insert for standard IOTA parameters:\n",
    "    - length = 1.8m\n",
    "    - phase = 0.3 (2 $\\pi$)\n",
    "    - c = 0.01 m$^{1/2}$\n",
    "    - t = 0.4"
   ]
  },
  {
   "cell_type": "code",
   "execution_count": 5,
   "metadata": {},
   "outputs": [
    {
     "data": {
      "text/plain": [
       "['nllens, knll = 2.0317695499823542e-06, cnll = 0.013311102471649506;',\n",
       " 'nllens, knll = 2.324259181669341e-06, cnll = 0.012445403243733028;',\n",
       " 'nllens, knll = 2.6653209314328795e-06, cnll = 0.011621882904432295;',\n",
       " 'nllens, knll = 3.057954609404607e-06, cnll = 0.010850149770689752;',\n",
       " 'nllens, knll = 3.499874698958059e-06, cnll = 0.010142032602260266;',\n",
       " 'nllens, knll = 3.979070618159703e-06, cnll = 0.009511749997822148;',\n",
       " 'nllens, knll = 4.468528256385335e-06, cnll = 0.008975713798560936;',\n",
       " 'nllens, knll = 4.922674638865199e-06, cnll = 0.008551665090678706;',\n",
       " 'nllens, knll = 5.2804505280122775e-06, cnll = 0.008256875977598102;',\n",
       " 'nllens, knll = 5.479576037284235e-06, cnll = 0.008105461951831525;',\n",
       " 'nllens, knll = 5.479576037284235e-06, cnll = 0.008105461951831525;',\n",
       " 'nllens, knll = 5.280450528012277e-06, cnll = 0.008256875977598103;',\n",
       " 'nllens, knll = 4.922674638865198e-06, cnll = 0.008551665090678708;',\n",
       " 'nllens, knll = 4.468528256385335e-06, cnll = 0.008975713798560936;',\n",
       " 'nllens, knll = 3.979070618159701e-06, cnll = 0.00951174999782215;',\n",
       " 'nllens, knll = 3.499874698958059e-06, cnll = 0.010142032602260266;',\n",
       " 'nllens, knll = 3.057954609404607e-06, cnll = 0.010850149770689752;',\n",
       " 'nllens, knll = 2.6653209314328787e-06, cnll = 0.011621882904432296;',\n",
       " 'nllens, knll = 2.324259181669341e-06, cnll = 0.012445403243733028;',\n",
       " 'nllens, knll = 2.031769549982354e-06, cnll = 0.013311102471649506;']"
      ]
     },
     "execution_count": 5,
     "metadata": {},
     "output_type": "execute_result"
    }
   ],
   "source": [
    "l0 = 1.8\n",
    "mu0 = 0.3\n",
    "c = 0.01\n",
    "t = 0.4\n",
    "\n",
    "#Import the version of the class from the nonlinear.py module\n",
    "testNLI = nonlinear.NonlinearInsert(l0, mu0, t, c)\n",
    "testNLI.generate_sequence()\n",
    "testNLI.create_madx()"
   ]
  },
  {
   "cell_type": "code",
   "execution_count": null,
   "metadata": {},
   "outputs": [],
   "source": []
  }
 ],
 "metadata": {
  "kernelspec": {
   "display_name": "Python 3",
   "language": "python",
   "name": "py3"
  },
  "language_info": {
   "codemirror_mode": {
    "name": "ipython",
    "version": 3
   },
   "file_extension": ".py",
   "mimetype": "text/x-python",
   "name": "python",
   "nbconvert_exporter": "python",
   "pygments_lexer": "ipython3",
   "version": "3.7.2"
  }
 },
 "nbformat": 4,
 "nbformat_minor": 4
}
